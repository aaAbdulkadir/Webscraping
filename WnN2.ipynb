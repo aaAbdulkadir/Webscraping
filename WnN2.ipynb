{
 "cells": [
  {
   "cell_type": "markdown",
   "id": "76336c00",
   "metadata": {},
   "source": [
    "# Import and Functions "
   ]
  },
  {
   "cell_type": "code",
   "execution_count": 1,
   "id": "919338a7",
   "metadata": {},
   "outputs": [],
   "source": [
    "from selenium import webdriver\n",
    "from selenium.webdriver.common.keys import Keys\n",
    "import time\n",
    "from selenium.webdriver.common.action_chains import ActionChains\n",
    "import pandas as pd\n",
    "from selenium.webdriver.support import expected_conditions as EC, wait\n",
    "from selenium.webdriver.common.by import By\n",
    "from selenium.webdriver.support.wait import WebDriverWait\n",
    "from selenium.webdriver.support.ui import WebDriverWait\n",
    "import requests"
   ]
  },
  {
   "cell_type": "code",
   "execution_count": 2,
   "id": "961166ab",
   "metadata": {},
   "outputs": [],
   "source": [
    "csv = pd.read_csv(r\"C:\\Users\\Abdulkadir\\Documents\\Programming\\WebScrapeTeasdale\\Chambers\\NamesOfBusinesses - Sheet1.csv\")\n",
    "names = csv[\"Name\"].to_list()"
   ]
  },
  {
   "cell_type": "code",
   "execution_count": 3,
   "id": "0e5440a6",
   "metadata": {},
   "outputs": [],
   "source": [
    "path = r\"C:\\Users\\Abdulkadir\\Documents\\Programming\\chromedriver.exe\"\n",
    "driver = webdriver.Chrome(path)\n",
    "driver.get('https://wnychamber.force.com/s/searchdirectory?id=a3P1v000000j4DU')\n",
    "wait = WebDriverWait(driver, 10)"
   ]
  },
  {
   "cell_type": "code",
   "execution_count": 4,
   "id": "f5ca6b65",
   "metadata": {},
   "outputs": [],
   "source": [
    "company_names = []\n",
    "company_emails = []\n",
    "company_numbers = []\n",
    "company_sectors = []\n",
    "company_websites = []"
   ]
  },
  {
   "cell_type": "code",
   "execution_count": 5,
   "id": "e948f288",
   "metadata": {},
   "outputs": [],
   "source": [
    "def search_box():\n",
    "    search_box = wait.until(EC.element_to_be_clickable((By.XPATH, f'/html/body/div[3]/div[2]/div/div[2]/div/div/div/div[1]/div[2]/div/div[2]/div/div[1]/input')))\n",
    "    return search_box"
   ]
  },
  {
   "cell_type": "code",
   "execution_count": 6,
   "id": "b7a41e7e",
   "metadata": {},
   "outputs": [],
   "source": [
    "def search_button():\n",
    "    search_button = wait.until(EC.element_to_be_clickable((By.XPATH, f'/html/body/div[3]/div[2]/div/div[2]/div/div/div/div[1]/div[2]/div/div[2]/div/div[2]/button')))\n",
    "    return search_button"
   ]
  },
  {
   "cell_type": "code",
   "execution_count": 7,
   "id": "50392a16",
   "metadata": {},
   "outputs": [],
   "source": [
    "def first_result():\n",
    "    result = wait.until(EC.element_to_be_clickable((By.XPATH, '/html/body/div[3]/div[2]/div/div[2]/div/div/div/div[1]/div[4]/div[2]/div/div[2]/div/div/div[2]/div[2]/div[2]/div[2]/div/div/div[1]/div/table/tbody/tr[1]/td[1]')))\n",
    "    return result"
   ]
  },
  {
   "cell_type": "code",
   "execution_count": 8,
   "id": "4b0fcdf3",
   "metadata": {},
   "outputs": [],
   "source": [
    "def company_name():\n",
    "    try:\n",
    "        card_name = wait.until(EC.presence_of_element_located((By.XPATH, f'/html/body/div[3]/div[2]/div/div[2]/div/div/div/div[1]/div[3]/div[2]/div/div[2]/div/div/div[2]/div[2]/div[1]/div[2]/div[2]/div[1]/div[3]/div[1]/div[1]/div[1]/span'))).text\n",
    "        return card_name\n",
    "    except:\n",
    "        return 'NULL'"
   ]
  },
  {
   "cell_type": "code",
   "execution_count": 9,
   "id": "36d2d9c3",
   "metadata": {},
   "outputs": [],
   "source": [
    "def company_email():\n",
    "    x = 3\n",
    "    while x < 6:\n",
    "        try:\n",
    "            email = wait.until(EC.presence_of_element_located((By.XPATH, f'/html/body/div[3]/div[2]/div/div[2]/div/div/div/div[1]/div[3]/div[2]/div/div[2]/div/div/div[2]/div[2]/div[1]/div[2]/div[2]/div[1]/div[3]/div[1]/div[{x}]/span[1]'))).text\n",
    "            if '@' and '.' in email:\n",
    "                return email\n",
    "            else:\n",
    "                x += 1\n",
    "        except:\n",
    "            x += 1\n",
    "    return 'NULL'"
   ]
  },
  {
   "cell_type": "code",
   "execution_count": 10,
   "id": "134828cc",
   "metadata": {},
   "outputs": [],
   "source": [
    "def company_number():\n",
    "    x = 3\n",
    "    while x < 6:\n",
    "        try:\n",
    "            number = wait.until(EC.presence_of_element_located((By.XPATH, f'/html/body/div[3]/div[2]/div/div[2]/div/div/div/div[1]/div[3]/div[2]/div/div[2]/div/div/div[2]/div[2]/div[1]/div[2]/div[2]/div[1]/div[3]/div[1]/div[{x}]/a'))).text\n",
    "            if '0' and not 'http' in number:\n",
    "                return number\n",
    "            else:\n",
    "                x += 1\n",
    "        except:\n",
    "            x += 1\n",
    "    return 'NULL'"
   ]
  },
  {
   "cell_type": "code",
   "execution_count": 11,
   "id": "fe212e78",
   "metadata": {},
   "outputs": [],
   "source": [
    "def company_website():\n",
    "    x = 3\n",
    "    while x < 6:\n",
    "        try:\n",
    "            website = wait.until(EC.presence_of_element_located((By.XPATH, f'/html/body/div[3]/div[2]/div/div[2]/div/div/div/div[1]/div[3]/div[2]/div/div[2]/div/div/div[2]/div[2]/div[1]/div[2]/div[2]/div[1]/div[3]/div[1]/div[{x}]/a'))).text\n",
    "            if 'http' in website:\n",
    "                return website\n",
    "            else:\n",
    "                x += 1\n",
    "        except:\n",
    "            x += 1\n",
    "    return 'NULL'"
   ]
  },
  {
   "cell_type": "code",
   "execution_count": 12,
   "id": "87640448",
   "metadata": {},
   "outputs": [],
   "source": [
    "def search_sequence(name):\n",
    "    search_box().click()\n",
    "    search_box().clear()\n",
    "    search_box().send_keys(name)\n",
    "    time.sleep(1)\n",
    "    search_button().click()\n",
    "    time.sleep(1)\n",
    "    first_result().click()"
   ]
  },
  {
   "cell_type": "code",
   "execution_count": 13,
   "id": "dccfa547",
   "metadata": {},
   "outputs": [],
   "source": [
    "def print_details():\n",
    "    print(company_name())\n",
    "    print(company_email())\n",
    "    print(company_number())\n",
    "    print(company_website())\n",
    "    company_names.append(company_name())\n",
    "    company_emails.append(company_email())\n",
    "    company_numbers.append(company_number())\n",
    "    company_websites.append(company_website())"
   ]
  },
  {
   "cell_type": "markdown",
   "id": "bc05bb7d",
   "metadata": {},
   "source": [
    "# Main"
   ]
  },
  {
   "cell_type": "code",
   "execution_count": null,
   "id": "9a060e26",
   "metadata": {},
   "outputs": [],
   "source": [
    "for name in names:\n",
    "    try:\n",
    "        search_sequence(name)\n",
    "        print_details()\n",
    "        driver.refresh()\n",
    "    except:\n",
    "        driver.refresh()"
   ]
  },
  {
   "cell_type": "markdown",
   "id": "1000de11",
   "metadata": {},
   "source": [
    "# DataFrames and CSV"
   ]
  },
  {
   "cell_type": "code",
   "execution_count": null,
   "id": "03b838c0",
   "metadata": {},
   "outputs": [],
   "source": [
    "df1 = pd.DataFrame({\"Name\": company_names, \"Email\": company_emails, \"Number\": company_numbers, \"Website\": company_websites})\n",
    "df1"
   ]
  },
  {
   "cell_type": "code",
   "execution_count": 16,
   "id": "70061549",
   "metadata": {},
   "outputs": [],
   "source": [
    "data = df1.to_csv(r\"C:\\Users\\Abdulkadir\\Documents\\Programming\\WebScrapeTeasdale\\Chambers\\WnN2.csv\")"
   ]
  }
 ],
 "metadata": {
  "kernelspec": {
   "display_name": "Python 3",
   "language": "python",
   "name": "python3"
  },
  "language_info": {
   "codemirror_mode": {
    "name": "ipython",
    "version": 3
   },
   "file_extension": ".py",
   "mimetype": "text/x-python",
   "name": "python",
   "nbconvert_exporter": "python",
   "pygments_lexer": "ipython3",
   "version": "3.8.8"
  }
 },
 "nbformat": 4,
 "nbformat_minor": 5
}
